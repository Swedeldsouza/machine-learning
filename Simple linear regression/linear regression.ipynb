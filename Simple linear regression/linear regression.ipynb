{
 "cells": [
  {
   "cell_type": "markdown",
   "metadata": {},
   "source": [
    "# Linear Regression\n",
    "\n",
    "1. lot of consultancy firms continue to use regression techniques at    a larger scale to help their clients. \n",
    "2. No doubt, it's one of the easiest algorithms to learn, but it requires persistent effort to get to the master level.\n",
    "3. Running a regression model is a no-brainer\n",
    "4. A simple model <- y~x does the job. But optimizing this model for higher accuracy is a real challenge. Let's say your model gives adjusted R² = 0.678; how will you improve it?"
   ]
  },
  {
   "cell_type": "markdown",
   "metadata": {},
   "source": [
    "# What is Regression ?  How does it work ?\n",
    "1. Regression is a parametric technique used to predict continuous (dependent) variable given a set of independent variables. \n",
    "2. It is parametric in nature because it makes certain assumptions (discussed next) based on the data set. \n",
    "3. If the data set follows those assumptions, regression gives incredible results. Otherwise, it struggles to provide convincing accuracy. Don't worry.\n",
    "4. There are several tricks (we'll learn shortly) we can use to obtain convincing result\n",
    "\n",
    "5. Mathematically, regression uses a linear function to approximate (predict) the dependent variable given as: \n",
    "                  Y = βo + β1X + ∈\n",
    "                  \n",
    "                  \n",
    "where, Y - Dependent variable ,\n",
    "X - Independent variable ,\n",
    "βo - Intercept ,\n",
    "β1 - Slope ,\n",
    "∈ - Error\n",
    "\n"
   ]
  },
  {
   "cell_type": "code",
   "execution_count": 9,
   "metadata": {},
   "outputs": [
    {
     "data": {
      "text/html": [
       "<img src=\"http://blog.hackerearth.com/wp-content/uploads/2016/12/anat.png\"/>"
      ],
      "text/plain": [
       "<IPython.core.display.Image object>"
      ]
     },
     "execution_count": 9,
     "metadata": {},
     "output_type": "execute_result"
    }
   ],
   "source": [
    "from IPython.display import Image\n",
    "from IPython.core.display import HTML \n",
    "Image(url= \"http://blog.hackerearth.com/wp-content/uploads/2016/12/anat.png\")"
   ]
  },
  {
   "cell_type": "code",
   "execution_count": null,
   "metadata": {},
   "outputs": [],
   "source": []
  }
 ],
 "metadata": {
  "kernelspec": {
   "display_name": "Python 3",
   "language": "python",
   "name": "python3"
  },
  "language_info": {
   "codemirror_mode": {
    "name": "ipython",
    "version": 3
   },
   "file_extension": ".py",
   "mimetype": "text/x-python",
   "name": "python",
   "nbconvert_exporter": "python",
   "pygments_lexer": "ipython3",
   "version": "3.7.6"
  }
 },
 "nbformat": 4,
 "nbformat_minor": 4
}
